{
 "cells": [
  {
   "cell_type": "markdown",
   "id": "0148faa0-3e1e-4049-9bac-c4c2632211c7",
   "metadata": {},
   "source": [
    "# Change default working directory \n",
    "\n",
    "* <https://www.drdataking.com/post/how-to-launch-jupyter-notebook-from-any-folder/>"
   ]
  },
  {
   "cell_type": "code",
   "execution_count": 1,
   "id": "da3cba9b-3a37-433f-af1f-3f4e48790cf4",
   "metadata": {},
   "outputs": [
    {
     "data": {
      "text/plain": [
       "'C:\\\\Users\\\\Public\\\\lmaaya\\\\Projects\\\\General'"
      ]
     },
     "execution_count": 2,
     "metadata": {},
     "output_type": "execute_result"
    }
   ],
   "source": [
    "import os\n",
    "\n",
    "os.getcwd()\n",
    "os.chdir(\"C:/Users/Public/lmaaya/Projects/General/\")"
   ]
  },
  {
   "cell_type": "markdown",
   "id": "479f4069-afd7-426d-bba1-e72f06a40de8",
   "metadata": {},
   "source": [
    "# Correct one for JupyterLab"
   ]
  },
  {
   "cell_type": "code",
   "execution_count": 3,
   "id": "507a61b4-b416-4d05-b6cc-aa00fd351954",
   "metadata": {},
   "outputs": [
    {
     "data": {
      "text/html": [
       "<iframe width=\"560\" height=\"315\" src=\"https://www.youtube.com/embed/FKxm8ZlfezM\" title=\"YouTube video player\" frameborder=\"0\" allow=\"accelerometer; autoplay; clipboard-write; encrypted-media; gyroscope; picture-in-picture; web-share\" allowfullscreen></iframe>\n"
      ],
      "text/plain": [
       "<IPython.core.display.HTML object>"
      ]
     },
     "metadata": {},
     "output_type": "display_data"
    }
   ],
   "source": [
    "%%HTML\n",
    "<iframe width=\"560\" height=\"315\" src=\"https://www.youtube.com/embed/FKxm8ZlfezM\" title=\"YouTube video player\" frameborder=\"0\" allow=\"accelerometer; autoplay; clipboard-write; encrypted-media; gyroscope; picture-in-picture; web-share\" allowfullscreen></iframe>"
   ]
  },
  {
   "cell_type": "code",
   "execution_count": null,
   "id": "93ba47a3-aa61-487e-885d-45c571002ebf",
   "metadata": {},
   "outputs": [],
   "source": []
  }
 ],
 "metadata": {
  "kernelspec": {
   "display_name": "Python 3 (ipykernel)",
   "language": "python",
   "name": "python3"
  },
  "language_info": {
   "codemirror_mode": {
    "name": "ipython",
    "version": 3
   },
   "file_extension": ".py",
   "mimetype": "text/x-python",
   "name": "python",
   "nbconvert_exporter": "python",
   "pygments_lexer": "ipython3",
   "version": "3.10.9"
  }
 },
 "nbformat": 4,
 "nbformat_minor": 5
}
