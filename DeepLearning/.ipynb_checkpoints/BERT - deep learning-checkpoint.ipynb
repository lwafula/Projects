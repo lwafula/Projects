{
 "cells": [
  {
   "cell_type": "markdown",
   "id": "c35d8c29-d7b3-4547-ae37-473cb1138e29",
   "metadata": {},
   "source": [
    "# BERT can be used for contextualized meanings for words e.g.\n",
    "\n",
    "* My **book** is beautiful\n",
    "* We had to **book** our flights"
   ]
  },
  {
   "cell_type": "code",
   "execution_count": 2,
   "id": "e18bad6b-49b3-4d71-9684-c20a4c432c56",
   "metadata": {
    "tags": []
   },
   "outputs": [
    {
     "data": {
      "text/html": [
       "<iframe width=\"560\" height=\"315\" src=\"https://www.youtube.com/embed/7kLi8u2dJz0?si=d7AMx7jjLMHJ-Qgn\" title=\"YouTube video player\" frameborder=\"0\" allow=\"accelerometer; autoplay; clipboard-write; encrypted-media; gyroscope; picture-in-picture; web-share\" allowfullscreen></iframe>\n"
      ],
      "text/plain": [
       "<IPython.core.display.HTML object>"
      ]
     },
     "metadata": {},
     "output_type": "display_data"
    }
   ],
   "source": [
    "%%HTML\n",
    "<iframe width=\"560\" height=\"315\" src=\"https://www.youtube.com/embed/7kLi8u2dJz0?si=d7AMx7jjLMHJ-Qgn\" title=\"YouTube video player\" frameborder=\"0\" allow=\"accelerometer; autoplay; clipboard-write; encrypted-media; gyroscope; picture-in-picture; web-share\" allowfullscreen></iframe>"
   ]
  },
  {
   "cell_type": "markdown",
   "id": "285946dc-c72e-44f3-ac34-3f78340f2097",
   "metadata": {},
   "source": [
    "# Download the BERT model from TensorFlow trained models repository\n",
    "\n",
    "https://www.tensorflow.org/hub\n",
    "\n",
    "https://tfhub.dev/google/collections/bert/1"
   ]
  },
  {
   "cell_type": "code",
   "execution_count": 11,
   "id": "26037525-a3ad-4287-bdca-a342e76c751e",
   "metadata": {},
   "outputs": [],
   "source": [
    "import tensorflow_hub as hub\n",
    "import tensorflow as tf\n",
    "#import tensorflow_text as text"
   ]
  },
  {
   "cell_type": "code",
   "execution_count": 13,
   "id": "fb5d0812-15c4-462c-822e-cc81ca43fa3e",
   "metadata": {},
   "outputs": [],
   "source": [
    "preprocess_url = \"https://tfhub.dev/tensorflow/bert_en_uncased_preprocess/3\"\n",
    "encoder_url = \"https://tfhub.dev/tensorflow/bert_en_uncased_L-12_H-768_A-12/4\""
   ]
  },
  {
   "cell_type": "code",
   "execution_count": null,
   "id": "669150f3-32ba-4163-9dc2-47ad83728384",
   "metadata": {},
   "outputs": [],
   "source": []
  },
  {
   "cell_type": "code",
   "execution_count": null,
   "id": "0e3b8d70-95ed-44de-a280-f7eca92dff90",
   "metadata": {},
   "outputs": [],
   "source": []
  },
  {
   "cell_type": "code",
   "execution_count": null,
   "id": "52fb8ccd-9753-4b15-b3b7-739ba888534d",
   "metadata": {},
   "outputs": [],
   "source": []
  }
 ],
 "metadata": {
  "kernelspec": {
   "display_name": "Python 3 (ipykernel)",
   "language": "python",
   "name": "python3"
  },
  "language_info": {
   "codemirror_mode": {
    "name": "ipython",
    "version": 3
   },
   "file_extension": ".py",
   "mimetype": "text/x-python",
   "name": "python",
   "nbconvert_exporter": "python",
   "pygments_lexer": "ipython3",
   "version": "3.10.9"
  }
 },
 "nbformat": 4,
 "nbformat_minor": 5
}
