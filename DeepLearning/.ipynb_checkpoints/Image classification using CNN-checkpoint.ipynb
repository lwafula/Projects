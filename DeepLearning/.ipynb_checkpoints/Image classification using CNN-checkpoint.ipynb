{
 "cells": [
  {
   "cell_type": "code",
   "execution_count": 2,
   "id": "9223744a-90a0-469f-9fa4-36c7b018e087",
   "metadata": {},
   "outputs": [],
   "source": [
    "import tensorflow as tf\n",
    "from tensorflow.keras import datasets, layers, models\n",
    "import matplotlib.pyplot as plt\n",
    "import numpy as np"
   ]
  },
  {
   "cell_type": "code",
   "execution_count": 3,
   "id": "ae263f9d-5548-4ddf-b8e4-9e9ec1f47985",
   "metadata": {},
   "outputs": [
    {
     "name": "stdout",
     "output_type": "stream",
     "text": [
      "Downloading data from https://www.cs.toronto.edu/~kriz/cifar-10-python.tar.gz\n",
      "170498071/170498071 [==============================] - 7s 0us/step\n"
     ]
    },
    {
     "data": {
      "text/plain": [
       "(50000, 32, 32, 3)"
      ]
     },
     "execution_count": 3,
     "metadata": {},
     "output_type": "execute_result"
    }
   ],
   "source": [
    "(X_train, y_train), (X_test, y_test) = datasets.cifar10.load_data()\n",
    "\n",
    "X_train.shape"
   ]
  },
  {
   "cell_type": "code",
   "execution_count": 4,
   "id": "84f697e1-acb3-49d7-97af-ce2d45089b36",
   "metadata": {},
   "outputs": [
    {
     "data": {
      "text/plain": [
       "(10000, 32, 32, 3)"
      ]
     },
     "execution_count": 4,
     "metadata": {},
     "output_type": "execute_result"
    }
   ],
   "source": [
    "X_test.shape"
   ]
  },
  {
   "cell_type": "code",
   "execution_count": 12,
   "id": "e3cac128-f34d-4c74-8359-20f3365671b8",
   "metadata": {},
   "outputs": [
    {
     "data": {
      "text/plain": [
       "array([[6],\n",
       "       [9],\n",
       "       [9],\n",
       "       [4],\n",
       "       [1]], dtype=uint8)"
      ]
     },
     "execution_count": 12,
     "metadata": {},
     "output_type": "execute_result"
    }
   ],
   "source": [
    "y_train[:5]"
   ]
  },
  {
   "cell_type": "code",
   "execution_count": 13,
   "id": "927897d0-25e5-4a63-88bc-ac12de84b691",
   "metadata": {},
   "outputs": [
    {
     "data": {
      "text/plain": [
       "array([6, 9, 9, 4, 1], dtype=uint8)"
      ]
     },
     "execution_count": 13,
     "metadata": {},
     "output_type": "execute_result"
    }
   ],
   "source": [
    "y_train = y_train.reshape(-1, )\n",
    "y_train[:5]"
   ]
  },
  {
   "cell_type": "code",
   "execution_count": 14,
   "id": "7c6616ec-a129-413c-9f83-a4156083a25b",
   "metadata": {},
   "outputs": [],
   "source": [
    "classes = [\"airplane\",\"automobile\",\"bird\",\"cat\",\"deer\",\"dog\",\"frog\",\"horse\",\"ship\",\"truck\"]"
   ]
  },
  {
   "cell_type": "code",
   "execution_count": 15,
   "id": "cfb3f317-ca2f-408f-ac9c-97fa1bf326d9",
   "metadata": {},
   "outputs": [
    {
     "data": {
      "text/plain": [
       "'truck'"
      ]
     },
     "execution_count": 15,
     "metadata": {},
     "output_type": "execute_result"
    }
   ],
   "source": [
    "classes[9]"
   ]
  },
  {
   "cell_type": "code",
   "execution_count": 16,
   "id": "081b51fe-2e20-411d-a073-393ebc48d54d",
   "metadata": {},
   "outputs": [],
   "source": [
    "\n",
    "def plot_sample(X, y, index):\n",
    "    plt.figure(figsize=(15, 2))\n",
    "    plt.imshow(X[index])\n",
    "    plt.xlabel(classes[y[index]])"
   ]
  },
  {
   "cell_type": "code",
   "execution_count": 17,
   "id": "ad85b16d-52a2-4793-82a3-2edd2ec4c931",
   "metadata": {},
   "outputs": [
    {
     "data": {
      "image/png": "[encoded data removed]",
      "text/plain": [
       "<Figure size 1500x200 with 1 Axes>"
      ]
     },
     "metadata": {},
     "output_type": "display_data"
    }
   ],
   "source": [
    "plot_sample(X_train, y_train, 0)"
   ]
  },
  {
   "cell_type": "code",
   "execution_count": 19,
   "id": "8961abb9-ba30-4a34-a533-18246bdcb411",
   "metadata": {},
   "outputs": [
    {
     "data": {
      "image/png": "[encoded data removed]",
      "text/plain": [
       "<Figure size 1500x200 with 1 Axes>"
      ]
     },
     "metadata": {},
     "output_type": "display_data"
    }
   ],
   "source": [
    "plot_sample(X_train, y_train, 2)"
   ]
  },
  {
   "cell_type": "markdown",
   "id": "b99bde88-7260-4d06-81dc-2ea366428b71",
   "metadata": {},
   "source": [
    "# normalize data"
   ]
  },
  {
   "cell_type": "code",
   "execution_count": 22,
   "id": "b3ee7089-58e5-4ec7-a618-0dee0ff742c4",
   "metadata": {},
   "outputs": [],
   "source": [
    "X_train = X_train / 255\n",
    "X_test = X_test / 255"
   ]
  },
  {
   "cell_type": "markdown",
   "id": "a4d8e18c-8376-46d5-a713-e4420fbc19d9",
   "metadata": {},
   "source": [
    "# Artificial Neural Network"
   ]
  },
  {
   "cell_type": "code",
   "execution_count": 23,
   "id": "4dbe9fd7-f538-4571-be53-538bbb83beee",
   "metadata": {},
   "outputs": [
    {
     "name": "stdout",
     "output_type": "stream",
     "text": [
      "Epoch 1/5\n",
      "1563/1563 [==============================] - 61s 38ms/step - loss: 1.8121 - accuracy: 0.3545\n",
      "Epoch 2/5\n",
      "1563/1563 [==============================] - 61s 39ms/step - loss: 1.6230 - accuracy: 0.4257\n",
      "Epoch 3/5\n",
      "1563/1563 [==============================] - 61s 39ms/step - loss: 1.5419 - accuracy: 0.4557\n",
      "Epoch 4/5\n",
      "1563/1563 [==============================] - 61s 39ms/step - loss: 1.4820 - accuracy: 0.4788\n",
      "Epoch 5/5\n",
      "1563/1563 [==============================] - 62s 40ms/step - loss: 1.4346 - accuracy: 0.4957\n"
     ]
    },
    {
     "data": {
      "text/plain": [
       "<keras.src.callbacks.History at 0x1bf6a6c0e20>"
      ]
     },
     "execution_count": 23,
     "metadata": {},
     "output_type": "execute_result"
    }
   ],
   "source": [
    "ann = models.Sequential([\n",
    "        layers.Flatten(input_shape=(32,32,3)),\n",
    "        layers.Dense(3000, activation='relu'),\n",
    "        layers.Dense(1000, activation='relu'),\n",
    "        layers.Dense(10, activation='sigmoid')    \n",
    "    ])\n",
    "\n",
    "ann.compile(optimizer='SGD',\n",
    "              loss='sparse_categorical_crossentropy',\n",
    "              metrics=['accuracy'])\n",
    "\n",
    "ann.fit(X_train, y_train, epochs=5)"
   ]
  },
  {
   "cell_type": "code",
   "execution_count": 24,
   "id": "3d0b8871-0ef6-4739-b848-8ef19f79f158",
   "metadata": {},
   "outputs": [
    {
     "name": "stdout",
     "output_type": "stream",
     "text": [
      "313/313 [==============================] - 3s 9ms/step - loss: 1.4439 - accuracy: 0.4844\n"
     ]
    },
    {
     "data": {
      "text/plain": [
       "[1.443886399269104, 0.4844000041484833]"
      ]
     },
     "execution_count": 24,
     "metadata": {},
     "output_type": "execute_result"
    }
   ],
   "source": [
    "ann.evaluate(X_test, y_test)"
   ]
  },
  {
   "cell_type": "code",
   "execution_count": 25,
   "id": "4babee82-03b9-4f5f-b86f-3bcb943faf2c",
   "metadata": {},
   "outputs": [
    {
     "name": "stdout",
     "output_type": "stream",
     "text": [
      "313/313 [==============================] - 3s 8ms/step\n",
      "Classification Report: \n",
      "               precision    recall  f1-score   support\n",
      "\n",
      "           0       0.70      0.38      0.49      1000\n",
      "           1       0.55      0.67      0.61      1000\n",
      "           2       0.39      0.34      0.36      1000\n",
      "           3       0.38      0.29      0.33      1000\n",
      "           4       0.41      0.46      0.43      1000\n",
      "           5       0.40      0.40      0.40      1000\n",
      "           6       0.51      0.52      0.52      1000\n",
      "           7       0.51      0.60      0.55      1000\n",
      "           8       0.49      0.75      0.59      1000\n",
      "           9       0.60      0.42      0.49      1000\n",
      "\n",
      "    accuracy                           0.48     10000\n",
      "   macro avg       0.49      0.48      0.48     10000\n",
      "weighted avg       0.49      0.48      0.48     10000\n",
      "\n"
     ]
    }
   ],
   "source": [
    "from sklearn.metrics import confusion_matrix , classification_report\n",
    "import numpy as np\n",
    "y_pred = ann.predict(X_test)\n",
    "y_pred_classes = [np.argmax(element) for element in y_pred]\n",
    "\n",
    "print(\"Classification Report: \\n\", classification_report(y_test, y_pred_classes))"
   ]
  },
  {
   "cell_type": "markdown",
   "id": "34aac41d-d9ac-4a4c-ae1f-3b0d9187747b",
   "metadata": {},
   "source": [
    "# build a convolutional neural network"
   ]
  },
  {
   "cell_type": "code",
   "execution_count": 26,
   "id": "2bbb127c-06a9-4386-8a16-0941ca1e4111",
   "metadata": {},
   "outputs": [],
   "source": [
    "cnn = models.Sequential([\n",
    "    \n",
    "    # cnn network\n",
    "    layers.Conv2D(filters=32, kernel_size=(3, 3), activation='relu', input_shape=(32, 32, 3)),\n",
    "    layers.MaxPooling2D((2, 2)),\n",
    "    \n",
    "    layers.Conv2D(filters=64, kernel_size=(3, 3), activation='relu'),\n",
    "    layers.MaxPooling2D((2, 2)),\n",
    "    \n",
    "    # dense network\n",
    "    layers.Flatten(),\n",
    "    layers.Dense(64, activation='relu'),\n",
    "    layers.Dense(10, activation='softmax')\n",
    "])"
   ]
  },
  {
   "cell_type": "code",
   "execution_count": 27,
   "id": "61a1c003-6548-4397-914a-9203a27b45ef",
   "metadata": {},
   "outputs": [],
   "source": [
    "cnn.compile(optimizer='adam',\n",
    "              loss='sparse_categorical_crossentropy',\n",
    "              metrics=['accuracy'])"
   ]
  },
  {
   "cell_type": "code",
   "execution_count": 28,
   "id": "db03caa1-3c75-4aa8-b094-4b509fa018d5",
   "metadata": {},
   "outputs": [
    {
     "name": "stdout",
     "output_type": "stream",
     "text": [
      "Epoch 1/10\n",
      "1563/1563 [==============================] - 27s 16ms/step - loss: 1.4645 - accuracy: 0.4712\n",
      "Epoch 2/10\n",
      "1563/1563 [==============================] - 26s 17ms/step - loss: 1.1123 - accuracy: 0.6101\n",
      "Epoch 3/10\n",
      "1563/1563 [==============================] - 26s 16ms/step - loss: 0.9931 - accuracy: 0.6536\n",
      "Epoch 4/10\n",
      "1563/1563 [==============================] - 26s 17ms/step - loss: 0.9152 - accuracy: 0.6830\n",
      "Epoch 5/10\n",
      "1563/1563 [==============================] - 26s 16ms/step - loss: 0.8507 - accuracy: 0.7069\n",
      "Epoch 6/10\n",
      "1563/1563 [==============================] - 25s 16ms/step - loss: 0.8040 - accuracy: 0.7214\n",
      "Epoch 7/10\n",
      "1563/1563 [==============================] - 25s 16ms/step - loss: 0.7582 - accuracy: 0.7369\n",
      "Epoch 8/10\n",
      "1563/1563 [==============================] - 26s 16ms/step - loss: 0.7168 - accuracy: 0.7503\n",
      "Epoch 9/10\n",
      "1563/1563 [==============================] - 26s 16ms/step - loss: 0.6790 - accuracy: 0.7630\n",
      "Epoch 10/10\n",
      "1563/1563 [==============================] - 26s 16ms/step - loss: 0.6457 - accuracy: 0.7739\n"
     ]
    },
    {
     "data": {
      "text/plain": [
       "<keras.src.callbacks.History at 0x1bf85cbefb0>"
      ]
     },
     "execution_count": 28,
     "metadata": {},
     "output_type": "execute_result"
    }
   ],
   "source": [
    "cnn.fit(X_train, y_train, epochs=10)"
   ]
  },
  {
   "cell_type": "code",
   "execution_count": 30,
   "id": "a8e30922-46da-4786-ad67-f3972c89ac49",
   "metadata": {},
   "outputs": [
    {
     "name": "stdout",
     "output_type": "stream",
     "text": [
      "313/313 [==============================] - 2s 6ms/step - loss: 0.9540 - accuracy: 0.6775\n"
     ]
    },
    {
     "data": {
      "text/plain": [
       "[0.9540085792541504, 0.6775000095367432]"
      ]
     },
     "execution_count": 30,
     "metadata": {},
     "output_type": "execute_result"
    }
   ],
   "source": [
    "cnn.evaluate(X_test, y_test)"
   ]
  },
  {
   "cell_type": "code",
   "execution_count": 31,
   "id": "aca0255b-e1ac-4eb5-8a2b-90a9a1f3f718",
   "metadata": {},
   "outputs": [],
   "source": [
    "y_test = y_test.reshape(-1, )"
   ]
  },
  {
   "cell_type": "code",
   "execution_count": 32,
   "id": "fe7ad061-7c05-487a-842e-01d4199cdf7b",
   "metadata": {},
   "outputs": [
    {
     "data": {
      "image/png": "[encoded data removed]",
      "text/plain": [
       "<Figure size 1500x200 with 1 Axes>"
      ]
     },
     "metadata": {},
     "output_type": "display_data"
    }
   ],
   "source": [
    "plot_sample(X_test, y_test, 1)"
   ]
  },
  {
   "cell_type": "code",
   "execution_count": 33,
   "id": "14adb6e4-1098-487d-aeb4-be9bc3d31355",
   "metadata": {},
   "outputs": [
    {
     "name": "stdout",
     "output_type": "stream",
     "text": [
      "313/313 [==============================] - 2s 5ms/step\n"
     ]
    },
    {
     "data": {
      "text/plain": [
       "array([[2.37629768e-02, 2.51495308e-04, 2.62630321e-02, 1.46106333e-01,\n",
       "        1.24371098e-03, 6.99818730e-01, 5.56343086e-02, 2.33569168e-04,\n",
       "        4.65703867e-02, 1.15496849e-04],\n",
       "       [1.52205089e-02, 1.77907765e-01, 2.76669343e-05, 7.34712629e-08,\n",
       "        1.89895335e-08, 1.07873203e-10, 1.15515704e-08, 5.55795197e-08,\n",
       "        8.06720555e-01, 1.23252437e-04],\n",
       "       [6.21994995e-02, 6.05915964e-01, 1.57510513e-03, 1.48226530e-03,\n",
       "        2.12844519e-04, 2.51677324e-04, 4.84790507e-05, 1.38456863e-03,\n",
       "        2.79751092e-01, 4.71785665e-02],\n",
       "       [2.71336138e-01, 1.28089041e-02, 5.84366778e-03, 2.27645214e-04,\n",
       "        2.76314859e-05, 4.51426695e-06, 1.09508444e-04, 2.76888750e-06,\n",
       "        7.09281862e-01, 3.57358978e-04],\n",
       "       [1.20546076e-06, 4.95338572e-05, 3.12425513e-02, 2.68579181e-02,\n",
       "        1.35187984e-01, 4.56337072e-03, 8.02031219e-01, 2.31996291e-05,\n",
       "        3.29890172e-05, 1.01541782e-05]], dtype=float32)"
      ]
     },
     "execution_count": 33,
     "metadata": {},
     "output_type": "execute_result"
    }
   ],
   "source": [
    "y_pred = cnn.predict(X_test)\n",
    "y_pred[:5]"
   ]
  },
  {
   "cell_type": "code",
   "execution_count": 35,
   "id": "39adbc24-4b92-4c3a-9c8d-cb5880da32ae",
   "metadata": {},
   "outputs": [
    {
     "data": {
      "text/plain": [
       "[5, 8, 1, 8, 6]"
      ]
     },
     "execution_count": 35,
     "metadata": {},
     "output_type": "execute_result"
    }
   ],
   "source": [
    "y_classes = [np.argmax(element) for element in y_pred]\n",
    "y_classes[:5]"
   ]
  },
  {
   "cell_type": "code",
   "execution_count": 36,
   "id": "74c4bb69-485e-4a05-b8e6-d3cdca768ade",
   "metadata": {},
   "outputs": [
    {
     "data": {
      "text/plain": [
       "array([3, 8, 8, 0, 6], dtype=uint8)"
      ]
     },
     "execution_count": 36,
     "metadata": {},
     "output_type": "execute_result"
    }
   ],
   "source": [
    "y_test[:5]"
   ]
  },
  {
   "cell_type": "code",
   "execution_count": 40,
   "id": "bbadf174-b2da-45ef-bee2-172dcd5e4fff",
   "metadata": {},
   "outputs": [
    {
     "data": {
      "image/png": "[encoded data removed]",
      "text/plain": [
       "<Figure size 1500x200 with 1 Axes>"
      ]
     },
     "metadata": {},
     "output_type": "display_data"
    }
   ],
   "source": [
    "plot_sample(X_test, y_test, 30)"
   ]
  },
  {
   "cell_type": "code",
   "execution_count": 41,
   "id": "269f8813-b111-49d0-bf8c-4065fb5f6982",
   "metadata": {},
   "outputs": [
    {
     "data": {
      "text/plain": [
       "'frog'"
      ]
     },
     "execution_count": 41,
     "metadata": {},
     "output_type": "execute_result"
    }
   ],
   "source": [
    "classes[y_classes[30]]"
   ]
  },
  {
   "cell_type": "code",
   "execution_count": 42,
   "id": "a3b2eda0-511b-4b70-b784-979a5d0e0757",
   "metadata": {},
   "outputs": [
    {
     "name": "stdout",
     "output_type": "stream",
     "text": [
      "Classification Report: \n",
      "               precision    recall  f1-score   support\n",
      "\n",
      "           0       0.70      0.38      0.49      1000\n",
      "           1       0.55      0.67      0.61      1000\n",
      "           2       0.39      0.34      0.36      1000\n",
      "           3       0.38      0.29      0.33      1000\n",
      "           4       0.41      0.46      0.43      1000\n",
      "           5       0.40      0.40      0.40      1000\n",
      "           6       0.51      0.52      0.52      1000\n",
      "           7       0.51      0.60      0.55      1000\n",
      "           8       0.49      0.75      0.59      1000\n",
      "           9       0.60      0.42      0.49      1000\n",
      "\n",
      "    accuracy                           0.48     10000\n",
      "   macro avg       0.49      0.48      0.48     10000\n",
      "weighted avg       0.49      0.48      0.48     10000\n",
      "\n"
     ]
    }
   ],
   "source": [
    "print(\"Classification Report: \\n\", classification_report(y_test, y_pred_classes))"
   ]
  },
  {
   "cell_type": "code",
   "execution_count": 43,
   "id": "d179bfdc-c937-4137-9d55-f0072968e182",
   "metadata": {},
   "outputs": [
    {
     "name": "stdout",
     "output_type": "stream",
     "text": [
      "Classification Report: \n",
      "               precision    recall  f1-score   support\n",
      "\n",
      "           0       0.76      0.66      0.70      1000\n",
      "           1       0.78      0.83      0.80      1000\n",
      "           2       0.49      0.68      0.57      1000\n",
      "           3       0.64      0.27      0.38      1000\n",
      "           4       0.70      0.54      0.61      1000\n",
      "           5       0.48      0.74      0.59      1000\n",
      "           6       0.81      0.72      0.76      1000\n",
      "           7       0.70      0.77      0.74      1000\n",
      "           8       0.81      0.79      0.80      1000\n",
      "           9       0.78      0.77      0.77      1000\n",
      "\n",
      "    accuracy                           0.68     10000\n",
      "   macro avg       0.70      0.68      0.67     10000\n",
      "weighted avg       0.70      0.68      0.67     10000\n",
      "\n"
     ]
    }
   ],
   "source": [
    "print(\"Classification Report: \\n\", classification_report(y_test, y_classes))"
   ]
  }
 ],
 "metadata": {
  "kernelspec": {
   "display_name": "Python 3 (ipykernel)",
   "language": "python",
   "name": "python3"
  },
  "language_info": {
   "codemirror_mode": {
    "name": "ipython",
    "version": 3
   },
   "file_extension": ".py",
   "mimetype": "text/x-python",
   "name": "python",
   "nbconvert_exporter": "python",
   "pygments_lexer": "ipython3",
   "version": "3.10.9"
  }
 },
 "nbformat": 4,
 "nbformat_minor": 5
}
