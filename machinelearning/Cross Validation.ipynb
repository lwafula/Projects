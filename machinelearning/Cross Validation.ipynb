{
 "cells": [
  {
   "cell_type": "markdown",
   "id": "3d354110-05fd-4047-b058-821066f80739",
   "metadata": {},
   "source": [
    "# K Fold cross validation\n",
    "\n",
    "* split the data into *K* folds/samples\n",
    "    * use K-1 samples/folds for training the model and the remaining one for testing\n",
    "        - do this K times i.e each of the K samples used as a test sample\n",
    "        - each time, calculate the score/model performance index\n",
    " * compare performance of classifiers/models  \n",
    " * note that we can also use the K Fold classifier to determine the appropriate parameter/tuning parameter within a classifier\n",
    "     - for instance in Random forest, for n_estimators"
   ]
  },
  {
   "cell_type": "code",
   "execution_count": 60,
   "id": "a4edd8f8-0e52-43ab-8548-dd589de6de7f",
   "metadata": {},
   "outputs": [],
   "source": [
    "from sklearn.linear_model import LogisticRegression\n",
    "from sklearn.svm import SVC\n",
    "from sklearn.ensemble import RandomForestClassifier\n",
    "import numpy as np\n",
    "from sklearn.datasets import load_digits\n",
    "\n",
    "digits = load_digits()"
   ]
  },
  {
   "cell_type": "code",
   "execution_count": 61,
   "id": "d668efbe-c923-4d18-b6f8-8dece161ef50",
   "metadata": {},
   "outputs": [],
   "source": [
    "from sklearn.model_selection import train_test_split\n",
    "X_train, X_test, Y_train, Y_test = train_test_split(digits.data, digits.target, test_size=0.3)"
   ]
  },
  {
   "cell_type": "markdown",
   "id": "c4e8b75c-cbc4-4fb8-bec1-d142c3ac4a28",
   "metadata": {},
   "source": [
    "## Logistic classifier/model"
   ]
  },
  {
   "cell_type": "code",
   "execution_count": 62,
   "id": "7a5a6409-8c7b-41f9-a318-9a64f11227cb",
   "metadata": {},
   "outputs": [
    {
     "data": {
      "text/plain": [
       "0.9574074074074074"
      ]
     },
     "execution_count": 62,
     "metadata": {},
     "output_type": "execute_result"
    }
   ],
   "source": [
    "lr = LogisticRegression(max_iter=5000)\n",
    "lr.fit(X_train, Y_train)\n",
    "lr.score(X_test, Y_test)"
   ]
  },
  {
   "cell_type": "markdown",
   "id": "83b7cc37-4f9d-4dd2-a653-116e50de0a0a",
   "metadata": {},
   "source": [
    "## Support vector machines/SVM"
   ]
  },
  {
   "cell_type": "code",
   "execution_count": 63,
   "id": "cd82aa0f-6c20-460e-bb83-58be2acc1166",
   "metadata": {},
   "outputs": [
    {
     "data": {
      "text/plain": [
       "0.9814814814814815"
      ]
     },
     "execution_count": 63,
     "metadata": {},
     "output_type": "execute_result"
    }
   ],
   "source": [
    "svm = SVC()\n",
    "svm.fit(X_train, Y_train)\n",
    "svm.score(X_test, Y_test)"
   ]
  },
  {
   "cell_type": "markdown",
   "id": "96452c33-1cc5-41cc-9238-3d295665ac55",
   "metadata": {},
   "source": [
    "## Random forest"
   ]
  },
  {
   "cell_type": "code",
   "execution_count": 64,
   "id": "b90be25c-da19-485a-8d85-345d99315b67",
   "metadata": {},
   "outputs": [
    {
     "data": {
      "text/plain": [
       "0.9648148148148148"
      ]
     },
     "execution_count": 64,
     "metadata": {},
     "output_type": "execute_result"
    }
   ],
   "source": [
    "rf = RandomForestClassifier(n_estimators=50)\n",
    "rf.fit(X_train, Y_train)\n",
    "rf.score(X_test, Y_test)"
   ]
  },
  {
   "cell_type": "markdown",
   "id": "99d91513-35fd-4d9d-8c72-516c2c8d3d68",
   "metadata": {},
   "source": [
    "## K-Fold classification\n",
    "\n",
    "For more info, check the video below:"
   ]
  },
  {
   "cell_type": "code",
   "execution_count": 65,
   "id": "f0bd352d-7f3a-42cf-a1f1-021699fa397e",
   "metadata": {},
   "outputs": [
    {
     "data": {
      "text/html": [
       "<iframe width=\"560\" height=\"315\" src=\"https://www.youtube.com/embed/gJo0uNL-5Qw\" title=\"YouTube video player\" frameborder=\"0\" allow=\"accelerometer; autoplay; clipboard-write; encrypted-media; gyroscope; picture-in-picture; web-share\" allowfullscreen></iframe>\n"
      ],
      "text/plain": [
       "<IPython.core.display.HTML object>"
      ]
     },
     "metadata": {},
     "output_type": "display_data"
    }
   ],
   "source": [
    "%%HTML\n",
    "<iframe width=\"560\" height=\"315\" src=\"https://www.youtube.com/embed/gJo0uNL-5Qw\" title=\"YouTube video player\" frameborder=\"0\" allow=\"accelerometer; autoplay; clipboard-write; encrypted-media; gyroscope; picture-in-picture; web-share\" allowfullscreen></iframe>"
   ]
  },
  {
   "cell_type": "markdown",
   "id": "b4726fe9-81f1-49f1-8701-4eb6ecf39c96",
   "metadata": {},
   "source": [
    "## Setting up the K-Fold validation manually"
   ]
  },
  {
   "cell_type": "code",
   "execution_count": 66,
   "id": "2b6b8fc4-0094-45da-bc74-5a16622c9af4",
   "metadata": {},
   "outputs": [
    {
     "data": {
      "text/plain": [
       "KFold(n_splits=3, random_state=None, shuffle=False)"
      ]
     },
     "execution_count": 66,
     "metadata": {},
     "output_type": "execute_result"
    }
   ],
   "source": [
    "from sklearn.model_selection import KFold\n",
    "kf = KFold(n_splits = 3)\n",
    "kf"
   ]
  },
  {
   "cell_type": "code",
   "execution_count": 67,
   "id": "dcadf824-a6a2-44fd-bfa6-6dedcc6a8476",
   "metadata": {},
   "outputs": [
    {
     "name": "stdout",
     "output_type": "stream",
     "text": [
      "[3 4 5 6 7 8] [0 1 2]\n",
      "[0 1 2 6 7 8] [3 4 5]\n",
      "[0 1 2 3 4 5] [6 7 8]\n"
     ]
    }
   ],
   "source": [
    "for train_index, test_index in kf.split([1, 2, 3, 4, 5, 6, 7, 8, 9]):\n",
    "    print(train_index, test_index)"
   ]
  },
  {
   "cell_type": "code",
   "execution_count": 68,
   "id": "055cb8df-fcdc-44c0-9ce9-5b9a6b6f6461",
   "metadata": {},
   "outputs": [],
   "source": [
    "def get_score(model, X_train, X_test, Y_train, Y_test):\n",
    "    model.fit(X_train, Y_train)\n",
    "    return model.score(X_test, Y_test)"
   ]
  },
  {
   "cell_type": "code",
   "execution_count": 69,
   "id": "c15d484f-ec8a-433a-b6ee-cb734e4e5f7a",
   "metadata": {},
   "outputs": [
    {
     "data": {
      "text/plain": [
       "0.9574074074074074"
      ]
     },
     "execution_count": 69,
     "metadata": {},
     "output_type": "execute_result"
    }
   ],
   "source": [
    "get_score(LogisticRegression(max_iter=5000), X_train, X_test, Y_train, Y_test)"
   ]
  },
  {
   "cell_type": "code",
   "execution_count": 70,
   "id": "3fbd078d-75e3-4200-a17a-3392121a6084",
   "metadata": {},
   "outputs": [
    {
     "data": {
      "text/plain": [
       "0.9814814814814815"
      ]
     },
     "execution_count": 70,
     "metadata": {},
     "output_type": "execute_result"
    }
   ],
   "source": [
    "get_score(SVC(), X_train, X_test, Y_train, Y_test)"
   ]
  },
  {
   "cell_type": "code",
   "execution_count": 71,
   "id": "dcf4a2c2-5983-43b6-a5c2-c433441df99f",
   "metadata": {},
   "outputs": [],
   "source": [
    "from sklearn.model_selection import StratifiedKFold\n",
    "folds = StratifiedKFold(n_splits=3)"
   ]
  },
  {
   "cell_type": "code",
   "execution_count": 72,
   "id": "20ba0563-6953-46ad-8a93-81c7a5c1066e",
   "metadata": {},
   "outputs": [],
   "source": [
    "scores_l = []\n",
    "scores_svm = []\n",
    "scores_rf = []\n",
    "\n",
    "for train_index, test_index in kf.split(digits.data):\n",
    "    X_train, X_test, Y_train, Y_test = digits.data[train_index], digits.data[test_index], \\\n",
    "    digits.target[train_index], digits.target[test_index]\n",
    "    \n",
    "    scores_l.append(get_score(LogisticRegression(max_iter=5000), X_train, X_test, Y_train, Y_test))\n",
    "    scores_svm.append(get_score(SVC(), X_train, X_test, Y_train, Y_test))\n",
    "    scores_rf.append(get_score(RandomForestClassifier(n_estimators=50), X_train, X_test, Y_train, Y_test))\n",
    " \n",
    "    \n",
    "    "
   ]
  },
  {
   "cell_type": "code",
   "execution_count": 73,
   "id": "946cd8ec-ba99-4406-916c-67dbc0d8fba4",
   "metadata": {},
   "outputs": [
    {
     "data": {
      "text/plain": [
       "[0.9282136894824707, 0.9415692821368948, 0.9165275459098498]"
      ]
     },
     "execution_count": 73,
     "metadata": {},
     "output_type": "execute_result"
    }
   ],
   "source": [
    "scores_l"
   ]
  },
  {
   "cell_type": "code",
   "execution_count": 74,
   "id": "2bf6a487-556f-460b-a0b1-8abbc6f84c00",
   "metadata": {},
   "outputs": [
    {
     "data": {
      "text/plain": [
       "[0.9666110183639399, 0.9816360601001669, 0.9549248747913188]"
      ]
     },
     "execution_count": 74,
     "metadata": {},
     "output_type": "execute_result"
    }
   ],
   "source": [
    "scores_svm"
   ]
  },
  {
   "cell_type": "code",
   "execution_count": 75,
   "id": "7c230b53-bceb-4be7-b63f-d8c46ac5d371",
   "metadata": {},
   "outputs": [
    {
     "data": {
      "text/plain": [
       "[0.9432387312186978, 0.9499165275459098, 0.9198664440734557]"
      ]
     },
     "execution_count": 75,
     "metadata": {},
     "output_type": "execute_result"
    }
   ],
   "source": [
    "scores_rf"
   ]
  },
  {
   "cell_type": "markdown",
   "id": "992f0b12-805d-4fd8-ada8-4a080fc64980",
   "metadata": {},
   "source": [
    "## K Fold validation from cross_validation package"
   ]
  },
  {
   "cell_type": "code",
   "execution_count": 76,
   "id": "1792eebe-b5cd-45fb-8b91-9b9af8baa41c",
   "metadata": {},
   "outputs": [],
   "source": [
    "from sklearn.model_selection import cross_val_score"
   ]
  },
  {
   "cell_type": "code",
   "execution_count": 77,
   "id": "e8c9e526-70f7-4db1-8059-9782e4ee2866",
   "metadata": {},
   "outputs": [
    {
     "data": {
      "text/plain": [
       "array([0.925     , 0.875     , 0.93871866, 0.93314763, 0.89693593])"
      ]
     },
     "execution_count": 77,
     "metadata": {},
     "output_type": "execute_result"
    }
   ],
   "source": [
    "cross_val_score(LogisticRegression(max_iter=5000), digits.data, digits.target)"
   ]
  },
  {
   "cell_type": "code",
   "execution_count": 78,
   "id": "64e49fcc-6653-45c4-b6cc-2b607684b483",
   "metadata": {},
   "outputs": [
    {
     "data": {
      "text/plain": [
       "array([0.96111111, 0.94444444, 0.98328691, 0.98885794, 0.93871866])"
      ]
     },
     "execution_count": 78,
     "metadata": {},
     "output_type": "execute_result"
    }
   ],
   "source": [
    "cross_val_score(SVC(), digits.data, digits.target)"
   ]
  },
  {
   "cell_type": "code",
   "execution_count": 79,
   "id": "f84487fb-4473-4cbc-9fd1-ef8a3af0c023",
   "metadata": {},
   "outputs": [
    {
     "data": {
      "text/plain": [
       "array([0.93333333, 0.9       , 0.96657382, 0.97214485, 0.93036212])"
      ]
     },
     "execution_count": 79,
     "metadata": {},
     "output_type": "execute_result"
    }
   ],
   "source": [
    "cross_val_score(RandomForestClassifier(n_estimators=50), digits.data, digits.target)"
   ]
  },
  {
   "cell_type": "code",
   "execution_count": null,
   "id": "c4c02b03-72bc-47a2-a371-b194b4d95c66",
   "metadata": {},
   "outputs": [],
   "source": []
  }
 ],
 "metadata": {
  "kernelspec": {
   "display_name": "Python 3 (ipykernel)",
   "language": "python",
   "name": "python3"
  },
  "language_info": {
   "codemirror_mode": {
    "name": "ipython",
    "version": 3
   },
   "file_extension": ".py",
   "mimetype": "text/x-python",
   "name": "python",
   "nbconvert_exporter": "python",
   "pygments_lexer": "ipython3",
   "version": "3.10.9"
  }
 },
 "nbformat": 4,
 "nbformat_minor": 5
}
