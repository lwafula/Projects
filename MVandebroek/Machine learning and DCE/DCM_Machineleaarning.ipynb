{
 "cells": [
  {
   "cell_type": "code",
   "execution_count": 12,
   "id": "bd3a2efc-7003-4327-ba54-a55fd6667dea",
   "metadata": {},
   "outputs": [],
   "source": [
    "import os\n",
    "\n",
    "#os.getcwd()"
   ]
  },
  {
   "cell_type": "markdown",
   "id": "350b1803-2bd7-4219-8444-32d426af199b",
   "metadata": {},
   "source": [
    "# Literature on DCM and machine learning\n",
    "\n",
    "* Michel Bierlaire"
   ]
  },
  {
   "cell_type": "code",
   "execution_count": 13,
   "id": "dcc7c1db-2643-4838-abc3-b8c53e6a4406",
   "metadata": {},
   "outputs": [
    {
     "data": {
      "text/html": [
       "<iframe width=\"560\" height=\"315\" src=\"https://www.youtube.com/embed/pUDA21B4x38\" title=\"YouTube video player\" frameborder=\"0\" allow=\"accelerometer; autoplay; clipboard-write; encrypted-media; gyroscope; picture-in-picture; web-share\" allowfullscreen></iframe>\n"
      ],
      "text/plain": [
       "<IPython.core.display.HTML object>"
      ]
     },
     "metadata": {},
     "output_type": "display_data"
    }
   ],
   "source": [
    "%%HTML\n",
    "<iframe width=\"560\" height=\"315\" src=\"https://www.youtube.com/embed/pUDA21B4x38\" title=\"YouTube video player\" frameborder=\"0\" allow=\"accelerometer; autoplay; clipboard-write; encrypted-media; gyroscope; picture-in-picture; web-share\" allowfullscreen></iframe>"
   ]
  },
  {
   "cell_type": "markdown",
   "id": "cc6f7def-b9c9-40b9-b370-7714e6023776",
   "metadata": {},
   "source": [
    "## Pitfalls of machine learning\n",
    "\n",
    "* currently, the test, train, validation samples are sampled in a way that does not take into account the correlated nature of data as is the case in DCEs:\n",
    "    * choices from the same person are to be grouped because they are clearly going to be more similar. In ML, the sample is on the observations and does not account for the structure in the data. This can/might have already been fixed."
   ]
  },
  {
   "cell_type": "markdown",
   "id": "d5224629-a1aa-4fd9-abd9-a3d0f5f5749f",
   "metadata": {},
   "source": [
    "## Comparison of DCM and Machine learning"
   ]
  },
  {
   "cell_type": "code",
   "execution_count": 14,
   "id": "a825bd38-5810-49fd-a412-877a59b5f4f5",
   "metadata": {},
   "outputs": [
    {
     "data": {
      "text/html": [
       "<iframe width=\"560\" height=\"315\" src=\"https://www.youtube.com/embed/aHM426fbrI4\" title=\"YouTube video player\" frameborder=\"0\" allow=\"accelerometer; autoplay; clipboard-write; encrypted-media; gyroscope; picture-in-picture; web-share\" allowfullscreen></iframe>\n"
      ],
      "text/plain": [
       "<IPython.core.display.HTML object>"
      ]
     },
     "metadata": {},
     "output_type": "display_data"
    }
   ],
   "source": [
    "%%HTML\n",
    "<iframe width=\"560\" height=\"315\" src=\"https://www.youtube.com/embed/aHM426fbrI4\" title=\"YouTube video player\" frameborder=\"0\" allow=\"accelerometer; autoplay; clipboard-write; encrypted-media; gyroscope; picture-in-picture; web-share\" allowfullscreen></iframe>"
   ]
  },
  {
   "cell_type": "code",
   "execution_count": null,
   "id": "420fe0cb-769e-41b4-9772-35bd61eaf1a0",
   "metadata": {},
   "outputs": [],
   "source": []
  }
 ],
 "metadata": {
  "kernelspec": {
   "display_name": "Python 3 (ipykernel)",
   "language": "python",
   "name": "python3"
  },
  "language_info": {
   "codemirror_mode": {
    "name": "ipython",
    "version": 3
   },
   "file_extension": ".py",
   "mimetype": "text/x-python",
   "name": "python",
   "nbconvert_exporter": "python",
   "pygments_lexer": "ipython3",
   "version": "3.10.9"
  }
 },
 "nbformat": 4,
 "nbformat_minor": 5
}
