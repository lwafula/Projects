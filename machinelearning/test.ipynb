{
 "cells": [
  {
   "cell_type": "markdown",
   "id": "6ee39a88-4b64-4732-9597-ae1da813a4f6",
   "metadata": {},
   "source": [
    "Written to check if git is actually working fine:"
   ]
  }
 ],
 "metadata": {
  "kernelspec": {
   "display_name": "Python 3 (ipykernel)",
   "language": "python",
   "name": "python3"
  },
  "language_info": {
   "codemirror_mode": {
    "name": "ipython",
    "version": 3
   },
   "file_extension": ".py",
   "mimetype": "text/x-python",
   "name": "python",
   "nbconvert_exporter": "python",
   "pygments_lexer": "ipython3",
   "version": "3.10.9"
  }
 },
 "nbformat": 4,
 "nbformat_minor": 5
}
