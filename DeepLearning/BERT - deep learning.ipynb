{
 "cells": [
  {
   "cell_type": "markdown",
   "id": "c35d8c29-d7b3-4547-ae37-473cb1138e29",
   "metadata": {},
   "source": [
    "# BERT can be used for contextualized meanings for words e.g.\n",
    "\n",
    "* My **book** is beautiful\n",
    "* We had to **book** our flights"
   ]
  },
  {
   "cell_type": "code",
   "execution_count": 2,
   "id": "e18bad6b-49b3-4d71-9684-c20a4c432c56",
   "metadata": {
    "tags": []
   },
   "outputs": [
    {
     "data": {
      "text/html": [
       "<iframe width=\"560\" height=\"315\" src=\"https://www.youtube.com/embed/7kLi8u2dJz0?si=d7AMx7jjLMHJ-Qgn\" title=\"YouTube video player\" frameborder=\"0\" allow=\"accelerometer; autoplay; clipboard-write; encrypted-media; gyroscope; picture-in-picture; web-share\" allowfullscreen></iframe>\n"
      ],
      "text/plain": [
       "<IPython.core.display.HTML object>"
      ]
     },
     "metadata": {},
     "output_type": "display_data"
    }
   ],
   "source": [
    "%%HTML\n",
    "<iframe width=\"560\" height=\"315\" src=\"https://www.youtube.com/embed/7kLi8u2dJz0?si=d7AMx7jjLMHJ-Qgn\" title=\"YouTube video player\" frameborder=\"0\" allow=\"accelerometer; autoplay; clipboard-write; encrypted-media; gyroscope; picture-in-picture; web-share\" allowfullscreen></iframe>"
   ]
  },
  {
   "cell_type": "markdown",
   "id": "285946dc-c72e-44f3-ac34-3f78340f2097",
   "metadata": {},
   "source": [
    "# Download the BERT model from TensorFlow trained models repository\n",
    "\n",
    "https://www.tensorflow.org/hub\n",
    "\n",
    "https://tfhub.dev/google/collections/bert/1"
   ]
  },
  {
   "cell_type": "code",
   "execution_count": 11,
   "id": "26037525-a3ad-4287-bdca-a342e76c751e",
   "metadata": {},
   "outputs": [],
   "source": [
    "import tensorflow_hub as hub\n",
    "import tensorflow as tf\n",
    "#import tensorflow_text as text"
   ]
  },
  {
   "cell_type": "code",
   "execution_count": 13,
   "id": "fb5d0812-15c4-462c-822e-cc81ca43fa3e",
   "metadata": {},
   "outputs": [],
   "source": [
    "preprocess_url = \"https://tfhub.dev/tensorflow/bert_en_uncased_preprocess/3\"\n",
    "encoder_url = \"https://tfhub.dev/tensorflow/bert_en_uncased_L-12_H-768_A-12/4\""
   ]
  },
  {
   "cell_type": "code",
   "execution_count": 18,
   "id": "669150f3-32ba-4163-9dc2-47ad83728384",
   "metadata": {},
   "outputs": [
    {
     "name": "stdout",
     "output_type": "stream",
     "text": [
      "Collecting tensorflow-text==2.10.*\n",
      "  Using cached tensorflow_text-2.10.0-cp310-cp310-win_amd64.whl (5.0 MB)\n",
      "Collecting tensorflow<2.11,>=2.10.0\n",
      "  Using cached tensorflow-2.10.1-cp310-cp310-win_amd64.whl (455.9 MB)\n",
      "Requirement already satisfied: tensorflow-hub>=0.8.0 in c:\\users\\pc\\anaconda3\\lib\\site-packages (from tensorflow-text==2.10.*) (0.14.0)\n",
      "Requirement already satisfied: opt-einsum>=2.3.2 in c:\\users\\pc\\anaconda3\\lib\\site-packages (from tensorflow<2.11,>=2.10.0->tensorflow-text==2.10.*) (3.3.0)\n",
      "Requirement already satisfied: astunparse>=1.6.0 in c:\\users\\pc\\anaconda3\\lib\\site-packages (from tensorflow<2.11,>=2.10.0->tensorflow-text==2.10.*) (1.6.3)\n",
      "Requirement already satisfied: tensorboard<2.11,>=2.10 in c:\\users\\pc\\anaconda3\\lib\\site-packages (from tensorflow<2.11,>=2.10.0->tensorflow-text==2.10.*) (2.10.1)\n",
      "Requirement already satisfied: numpy>=1.20 in c:\\users\\pc\\anaconda3\\lib\\site-packages (from tensorflow<2.11,>=2.10.0->tensorflow-text==2.10.*) (1.23.5)\n",
      "Requirement already satisfied: tensorflow-estimator<2.11,>=2.10.0 in c:\\users\\pc\\anaconda3\\lib\\site-packages (from tensorflow<2.11,>=2.10.0->tensorflow-text==2.10.*) (2.10.0)\n",
      "Requirement already satisfied: libclang>=13.0.0 in c:\\users\\pc\\anaconda3\\lib\\site-packages (from tensorflow<2.11,>=2.10.0->tensorflow-text==2.10.*) (16.0.0)\n",
      "Requirement already satisfied: typing-extensions>=3.6.6 in c:\\users\\pc\\anaconda3\\lib\\site-packages (from tensorflow<2.11,>=2.10.0->tensorflow-text==2.10.*) (4.7.1)\n",
      "Requirement already satisfied: packaging in c:\\users\\pc\\anaconda3\\lib\\site-packages (from tensorflow<2.11,>=2.10.0->tensorflow-text==2.10.*) (22.0)\n",
      "Requirement already satisfied: six>=1.12.0 in c:\\users\\pc\\anaconda3\\lib\\site-packages (from tensorflow<2.11,>=2.10.0->tensorflow-text==2.10.*) (1.16.0)\n",
      "Requirement already satisfied: setuptools in c:\\users\\pc\\anaconda3\\lib\\site-packages (from tensorflow<2.11,>=2.10.0->tensorflow-text==2.10.*) (65.6.3)\n",
      "Requirement already satisfied: termcolor>=1.1.0 in c:\\users\\pc\\anaconda3\\lib\\site-packages (from tensorflow<2.11,>=2.10.0->tensorflow-text==2.10.*) (2.3.0)\n",
      "Requirement already satisfied: flatbuffers>=2.0 in c:\\users\\pc\\anaconda3\\lib\\site-packages (from tensorflow<2.11,>=2.10.0->tensorflow-text==2.10.*) (23.5.26)\n",
      "Requirement already satisfied: google-pasta>=0.1.1 in c:\\users\\pc\\anaconda3\\lib\\site-packages (from tensorflow<2.11,>=2.10.0->tensorflow-text==2.10.*) (0.2.0)\n",
      "Requirement already satisfied: absl-py>=1.0.0 in c:\\users\\pc\\anaconda3\\lib\\site-packages (from tensorflow<2.11,>=2.10.0->tensorflow-text==2.10.*) (1.4.0)\n",
      "Requirement already satisfied: keras<2.11,>=2.10.0 in c:\\users\\pc\\anaconda3\\lib\\site-packages (from tensorflow<2.11,>=2.10.0->tensorflow-text==2.10.*) (2.10.0)\n",
      "Requirement already satisfied: h5py>=2.9.0 in c:\\users\\pc\\anaconda3\\lib\\site-packages (from tensorflow<2.11,>=2.10.0->tensorflow-text==2.10.*) (3.7.0)\n",
      "Requirement already satisfied: protobuf<3.20,>=3.9.2 in c:\\users\\pc\\anaconda3\\lib\\site-packages (from tensorflow<2.11,>=2.10.0->tensorflow-text==2.10.*) (3.19.6)\n",
      "Requirement already satisfied: keras-preprocessing>=1.1.1 in c:\\users\\pc\\anaconda3\\lib\\site-packages (from tensorflow<2.11,>=2.10.0->tensorflow-text==2.10.*) (1.1.2)\n",
      "Requirement already satisfied: wrapt>=1.11.0 in c:\\users\\pc\\anaconda3\\lib\\site-packages (from tensorflow<2.11,>=2.10.0->tensorflow-text==2.10.*) (1.14.1)\n",
      "Requirement already satisfied: tensorflow-io-gcs-filesystem>=0.23.1 in c:\\users\\pc\\anaconda3\\lib\\site-packages (from tensorflow<2.11,>=2.10.0->tensorflow-text==2.10.*) (0.31.0)\n",
      "Requirement already satisfied: grpcio<2.0,>=1.24.3 in c:\\users\\pc\\anaconda3\\lib\\site-packages (from tensorflow<2.11,>=2.10.0->tensorflow-text==2.10.*) (1.56.0)\n",
      "Requirement already satisfied: gast<=0.4.0,>=0.2.1 in c:\\users\\pc\\anaconda3\\lib\\site-packages (from tensorflow<2.11,>=2.10.0->tensorflow-text==2.10.*) (0.4.0)\n",
      "Requirement already satisfied: wheel<1.0,>=0.23.0 in c:\\users\\pc\\anaconda3\\lib\\site-packages (from astunparse>=1.6.0->tensorflow<2.11,>=2.10.0->tensorflow-text==2.10.*) (0.38.4)\n",
      "Requirement already satisfied: markdown>=2.6.8 in c:\\users\\pc\\anaconda3\\lib\\site-packages (from tensorboard<2.11,>=2.10->tensorflow<2.11,>=2.10.0->tensorflow-text==2.10.*) (3.4.1)\n",
      "Requirement already satisfied: tensorboard-data-server<0.7.0,>=0.6.0 in c:\\users\\pc\\anaconda3\\lib\\site-packages (from tensorboard<2.11,>=2.10->tensorflow<2.11,>=2.10.0->tensorflow-text==2.10.*) (0.6.1)\n",
      "Requirement already satisfied: werkzeug>=1.0.1 in c:\\users\\pc\\anaconda3\\lib\\site-packages (from tensorboard<2.11,>=2.10->tensorflow<2.11,>=2.10.0->tensorflow-text==2.10.*) (2.2.2)\n",
      "Requirement already satisfied: google-auth-oauthlib<0.5,>=0.4.1 in c:\\users\\pc\\anaconda3\\lib\\site-packages (from tensorboard<2.11,>=2.10->tensorflow<2.11,>=2.10.0->tensorflow-text==2.10.*) (0.4.6)\n",
      "Requirement already satisfied: requests<3,>=2.21.0 in c:\\users\\pc\\anaconda3\\lib\\site-packages (from tensorboard<2.11,>=2.10->tensorflow<2.11,>=2.10.0->tensorflow-text==2.10.*) (2.28.1)\n",
      "Requirement already satisfied: tensorboard-plugin-wit>=1.6.0 in c:\\users\\pc\\anaconda3\\lib\\site-packages (from tensorboard<2.11,>=2.10->tensorflow<2.11,>=2.10.0->tensorflow-text==2.10.*) (1.8.1)\n",
      "Requirement already satisfied: google-auth<3,>=1.6.3 in c:\\users\\pc\\anaconda3\\lib\\site-packages (from tensorboard<2.11,>=2.10->tensorflow<2.11,>=2.10.0->tensorflow-text==2.10.*) (2.22.0)\n",
      "Requirement already satisfied: pyasn1-modules>=0.2.1 in c:\\users\\pc\\anaconda3\\lib\\site-packages (from google-auth<3,>=1.6.3->tensorboard<2.11,>=2.10->tensorflow<2.11,>=2.10.0->tensorflow-text==2.10.*) (0.2.8)\n",
      "Requirement already satisfied: urllib3<2.0 in c:\\users\\pc\\anaconda3\\lib\\site-packages (from google-auth<3,>=1.6.3->tensorboard<2.11,>=2.10->tensorflow<2.11,>=2.10.0->tensorflow-text==2.10.*) (1.26.14)\n",
      "Requirement already satisfied: cachetools<6.0,>=2.0.0 in c:\\users\\pc\\anaconda3\\lib\\site-packages (from google-auth<3,>=1.6.3->tensorboard<2.11,>=2.10->tensorflow<2.11,>=2.10.0->tensorflow-text==2.10.*) (5.3.1)\n",
      "Requirement already satisfied: rsa<5,>=3.1.4 in c:\\users\\pc\\anaconda3\\lib\\site-packages (from google-auth<3,>=1.6.3->tensorboard<2.11,>=2.10->tensorflow<2.11,>=2.10.0->tensorflow-text==2.10.*) (4.9)\n",
      "Requirement already satisfied: requests-oauthlib>=0.7.0 in c:\\users\\pc\\anaconda3\\lib\\site-packages (from google-auth-oauthlib<0.5,>=0.4.1->tensorboard<2.11,>=2.10->tensorflow<2.11,>=2.10.0->tensorflow-text==2.10.*) (1.3.1)\n",
      "Requirement already satisfied: charset-normalizer<3,>=2 in c:\\users\\pc\\anaconda3\\lib\\site-packages (from requests<3,>=2.21.0->tensorboard<2.11,>=2.10->tensorflow<2.11,>=2.10.0->tensorflow-text==2.10.*) (2.0.4)\n",
      "Requirement already satisfied: certifi>=2017.4.17 in c:\\users\\pc\\anaconda3\\lib\\site-packages (from requests<3,>=2.21.0->tensorboard<2.11,>=2.10->tensorflow<2.11,>=2.10.0->tensorflow-text==2.10.*) (2023.5.7)\n",
      "Requirement already satisfied: idna<4,>=2.5 in c:\\users\\pc\\anaconda3\\lib\\site-packages (from requests<3,>=2.21.0->tensorboard<2.11,>=2.10->tensorflow<2.11,>=2.10.0->tensorflow-text==2.10.*) (3.4)\n",
      "Requirement already satisfied: MarkupSafe>=2.1.1 in c:\\users\\pc\\anaconda3\\lib\\site-packages (from werkzeug>=1.0.1->tensorboard<2.11,>=2.10->tensorflow<2.11,>=2.10.0->tensorflow-text==2.10.*) (2.1.1)\n",
      "Requirement already satisfied: pyasn1<0.5.0,>=0.4.6 in c:\\users\\pc\\anaconda3\\lib\\site-packages (from pyasn1-modules>=0.2.1->google-auth<3,>=1.6.3->tensorboard<2.11,>=2.10->tensorflow<2.11,>=2.10.0->tensorflow-text==2.10.*) (0.4.8)\n",
      "Requirement already satisfied: oauthlib>=3.0.0 in c:\\users\\pc\\anaconda3\\lib\\site-packages (from requests-oauthlib>=0.7.0->google-auth-oauthlib<0.5,>=0.4.1->tensorboard<2.11,>=2.10->tensorflow<2.11,>=2.10.0->tensorflow-text==2.10.*) (3.2.2)\n",
      "Installing collected packages: tensorflow, tensorflow-text\n",
      "  Attempting uninstall: tensorflow\n",
      "    Found existing installation: tensorflow 2.13.0\n",
      "    Uninstalling tensorflow-2.13.0:\n",
      "      Successfully uninstalled tensorflow-2.13.0\n",
      "  Rolling back uninstall of tensorflow\n",
      "  Moving to c:\\users\\pc\\anaconda3\\lib\\site-packages\\tensorflow-2.13.0.dist-info\\\n",
      "   from C:\\Users\\PC\\anaconda3\\Lib\\site-packages\\~ensorflow-2.13.0.dist-info\n",
      "Note: you may need to restart the kernel to use updated packages.\n"
     ]
    },
    {
     "name": "stderr",
     "output_type": "stream",
     "text": [
      "ERROR: Could not install packages due to an OSError: [WinError 5] Access is denied: 'C:\\\\Users\\\\PC\\\\anaconda3\\\\Lib\\\\site-packages\\\\tensorflow\\\\compiler\\\\tf2tensorrt\\\\_pywrap_py_utils.pyd'\n",
      "Consider using the `--user` option or check the permissions.\n",
      "\n"
     ]
    }
   ],
   "source": [
    "pip install -U \"tensorflow-text==2.10.*\""
   ]
  },
  {
   "cell_type": "code",
   "execution_count": null,
   "id": "0e3b8d70-95ed-44de-a280-f7eca92dff90",
   "metadata": {},
   "outputs": [],
   "source": []
  },
  {
   "cell_type": "code",
   "execution_count": null,
   "id": "52fb8ccd-9753-4b15-b3b7-739ba888534d",
   "metadata": {},
   "outputs": [],
   "source": []
  }
 ],
 "metadata": {
  "kernelspec": {
   "display_name": "Python 3 (ipykernel)",
   "language": "python",
   "name": "python3"
  },
  "language_info": {
   "codemirror_mode": {
    "name": "ipython",
    "version": 3
   },
   "file_extension": ".py",
   "mimetype": "text/x-python",
   "name": "python",
   "nbconvert_exporter": "python",
   "pygments_lexer": "ipython3",
   "version": "3.11.4"
  }
 },
 "nbformat": 4,
 "nbformat_minor": 5
}
